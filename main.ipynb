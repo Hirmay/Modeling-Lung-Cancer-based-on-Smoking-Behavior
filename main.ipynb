{
 "cells": [
  {
   "cell_type": "code",
   "execution_count": 15,
   "metadata": {},
   "outputs": [
    {
     "name": "stdout",
     "output_type": "stream",
     "text": [
      "0.125253250132206*gr_rate**2.8*exp(-0.869565217391304*gr_rate)\n",
      "1.00828866356426e-9*Integral(0.999999992029703*gr_rate**3.8*exp(-0.869565217391304*gr_rate), gr_rate)\n"
     ]
    }
   ],
   "source": [
    "import scipy.stats as sci\n",
    "import numpy as np\n",
    "import matplotlib.pyplot as plt\n",
    "import sympy as sp\n",
    "from sympy.stats import *\n",
    "from sympy import *\n",
    "E = 0.01\n",
    "mean_n = (8.05*(10**(-9)))\n",
    "mean_m = (2.78*(10**(-9)))\n",
    "K = 3.80\n",
    "Theta = 1.15\n",
    "gr_rate, t = sp.symbols('gr_rate t')\n",
    "S = sp.exp(gr_rate * t)\n",
    "Fn_s = (1 - (sp.exp(-(((mean_n/(E+1))*(sp.exp(gr_rate * t)**(E+1)))))))\n",
    "fn_s = sp.diff(Fn_s,t)\n",
    "#print(fn_s)\n",
    "#gamma_params = P(Eq(gr_rate), K,Theta)\n",
    "gamma_fn = (((1/Theta)**K)*(gr_rate**(K-1))*sp.exp(-((1/Theta)*gr_rate)))/gamma(K)\n",
    "print(gamma_fn)\n",
    "int_params = fn_s*gamma_fn\n",
    "\n",
    "#plt.plot(S,Fn_s)\n",
    "#plt.xlabel(\"S\")\n",
    "#plt.ylabel(\"CDF\")\n",
    "#plt.show()\n"
   ]
  },
  {
   "cell_type": "code",
   "execution_count": 38,
   "metadata": {},
   "outputs": [
    {
     "name": "stdout",
     "output_type": "stream",
     "text": [
      "0.125253250132206*gr_rate**2.8*exp(-0.869565217391304*gr_rate)\n"
     ]
    }
   ],
   "source": [
    "Fm_s = (1 - (sp.exp(-(((mean_m/(E+1))*(sp.exp(gr_rate * t)**(E+1)))))))\n",
    "fm_s = sp.diff(Fm_s,t)\n",
    "#print(fn_s)\n",
    "#gamma_params = P(Eq(gr_rate), K,Theta)\n",
    "gamma_fn = (((1/Theta)**K)*(gr_rate**(K-1))*sp.exp(-((1/Theta)*gr_rate)))/gamma(K)\n",
    "print(gamma_fn)\n",
    "int_params = fm_s*gamma_fn\n"
   ]
  },
  {
   "cell_type": "code",
   "execution_count": 45,
   "metadata": {},
   "outputs": [],
   "source": [
    "fn_t = sp.integrate(fn_s*gamma_fn, (gr_rate,-oo,oo))"
   ]
  },
  {
   "cell_type": "code",
   "execution_count": 46,
   "metadata": {},
   "outputs": [],
   "source": [
    "fm_t = sp.integrate(fm_s*gamma_fn, (gr_rate,-oo,oo))"
   ]
  },
  {
   "cell_type": "code",
   "execution_count": 47,
   "metadata": {},
   "outputs": [
    {
     "data": {
      "text/latex": [
       "$\\displaystyle 1.00828866356426 \\cdot 10^{-9} \\int\\limits_{-\\infty}^{\\infty} gr_{rate}^{3.8} e^{- 0.869565217391304 gr_{rate}} \\left(e^{gr_{rate} t}\\right)^{1.01} e^{- 7.97029702970297 \\cdot 10^{-9} \\left(e^{gr_{rate} t}\\right)^{1.01}}\\, dgr_{rate}$"
      ],
      "text/plain": [
       "1.00828866356426e-9*Integral(gr_rate**3.8*exp(-0.869565217391304*gr_rate)*exp(gr_rate*t)**1.01*exp(-7.97029702970297e-9*exp(gr_rate*t)**1.01), (gr_rate, -oo, oo))"
      ]
     },
     "execution_count": 47,
     "metadata": {},
     "output_type": "execute_result"
    }
   ],
   "source": [
    "fn_t.subs(t,t)"
   ]
  },
  {
   "cell_type": "code",
   "execution_count": 48,
   "metadata": {},
   "outputs": [
    {
     "data": {
      "text/latex": [
       "$\\displaystyle 3.48204035367533 \\cdot 10^{-10} \\int\\limits_{-\\infty}^{\\infty} gr_{rate}^{3.8} e^{- 0.869565217391304 gr_{rate}} \\left(e^{gr_{rate} t}\\right)^{1.01} e^{- 2.75247524752475 \\cdot 10^{-9} \\left(e^{gr_{rate} t}\\right)^{1.01}}\\, dgr_{rate}$"
      ],
      "text/plain": [
       "3.48204035367533e-10*Integral(gr_rate**3.8*exp(-0.869565217391304*gr_rate)*exp(gr_rate*t)**1.01*exp(-2.75247524752475e-9*exp(gr_rate*t)**1.01), (gr_rate, -oo, oo))"
      ]
     },
     "execution_count": 48,
     "metadata": {},
     "output_type": "execute_result"
    }
   ],
   "source": [
    "fm_t.subs(t,t)"
   ]
  },
  {
   "cell_type": "code",
   "execution_count": 49,
   "metadata": {},
   "outputs": [],
   "source": [
    "f_m1m0 = integrate((fn_t - fm_t) * gamma_fn, (gr_rate, -oo, oo))"
   ]
  },
  {
   "cell_type": "code",
   "execution_count": 50,
   "metadata": {},
   "outputs": [
    {
     "data": {
      "text/latex": [
       "$\\displaystyle \\left(1.26291432182882 \\cdot 10^{-10} \\int\\limits_{-\\infty}^{\\infty} gr_{rate}^{3.8} e^{- 0.869565217391304 gr_{rate}} \\left(e^{gr_{rate} t}\\right)^{1.01} e^{- 7.97029702970297 \\cdot 10^{-9} \\left(e^{gr_{rate} t}\\right)^{1.01}}\\, dgr_{rate} - 4.3613687138933 \\cdot 10^{-11} \\int\\limits_{-\\infty}^{\\infty} gr_{rate}^{3.8} e^{- 0.869565217391304 gr_{rate}} \\left(e^{gr_{rate} t}\\right)^{1.01} e^{- 2.75247524752475 \\cdot 10^{-9} \\left(e^{gr_{rate} t}\\right)^{1.01}}\\, dgr_{rate}\\right) \\int\\limits_{-\\infty}^{\\infty} gr_{rate}^{2.8} e^{- 0.869565217391304 gr_{rate}}\\, dgr_{rate}$"
      ],
      "text/plain": [
       "(1.26291432182882e-10*Integral(gr_rate**3.8*exp(-0.869565217391304*gr_rate)*exp(gr_rate*t)**1.01*exp(-7.97029702970297e-9*exp(gr_rate*t)**1.01), (gr_rate, -oo, oo)) - 4.3613687138933e-11*Integral(gr_rate**3.8*exp(-0.869565217391304*gr_rate)*exp(gr_rate*t)**1.01*exp(-2.75247524752475e-9*exp(gr_rate*t)**1.01), (gr_rate, -oo, oo)))*Integral(gr_rate**2.8*exp(-0.869565217391304*gr_rate), (gr_rate, -oo, oo))"
      ]
     },
     "execution_count": 50,
     "metadata": {},
     "output_type": "execute_result"
    }
   ],
   "source": [
    "f_m1m0.subs(t,t)"
   ]
  },
  {
   "cell_type": "code",
   "execution_count": null,
   "metadata": {},
   "outputs": [],
   "source": []
  }
 ],
 "metadata": {
  "kernelspec": {
   "display_name": "Python 3",
   "language": "python",
   "name": "python3"
  },
  "language_info": {
   "codemirror_mode": {
    "name": "ipython",
    "version": 3
   },
   "file_extension": ".py",
   "mimetype": "text/x-python",
   "name": "python",
   "nbconvert_exporter": "python",
   "pygments_lexer": "ipython3",
   "version": "3.7.6"
  }
 },
 "nbformat": 4,
 "nbformat_minor": 4
}
