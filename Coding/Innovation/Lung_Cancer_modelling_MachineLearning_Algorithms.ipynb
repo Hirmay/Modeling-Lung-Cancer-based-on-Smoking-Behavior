{
 "cells": [
  {
   "cell_type": "code",
   "execution_count": 90,
   "metadata": {},
   "outputs": [],
   "source": [
    "import numpy as np \n",
    "import pandas as pd \n",
    "import matplotlib.pyplot as plt\n",
    "import seaborn as sns\n",
    "\n",
    "from sklearn import preprocessing\n",
    "from sklearn.preprocessing import MinMaxScaler"
   ]
  },
  {
   "cell_type": "code",
   "execution_count": 91,
   "metadata": {
    "collapsed": true,
    "jupyter": {
     "outputs_hidden": true
    }
   },
   "outputs": [
    {
     "name": "stdout",
     "output_type": "stream",
     "text": [
      "Dataset : (10999, 2)\n",
      "<class 'pandas.core.frame.DataFrame'>\n",
      "RangeIndex: 10999 entries, 0 to 10998\n",
      "Data columns (total 2 columns):\n",
      " #   Column                Non-Null Count  Dtype  \n",
      "---  ------                --------------  -----  \n",
      " 0   TUMOR SIZE            10999 non-null  float64\n",
      " 1   Stage Classification  10999 non-null  int64  \n",
      "dtypes: float64(1), int64(1)\n",
      "memory usage: 171.9 KB\n"
     ]
    },
    {
     "data": {
      "text/html": [
       "<div>\n",
       "<style scoped>\n",
       "    .dataframe tbody tr th:only-of-type {\n",
       "        vertical-align: middle;\n",
       "    }\n",
       "\n",
       "    .dataframe tbody tr th {\n",
       "        vertical-align: top;\n",
       "    }\n",
       "\n",
       "    .dataframe thead th {\n",
       "        text-align: right;\n",
       "    }\n",
       "</style>\n",
       "<table border=\"1\" class=\"dataframe\">\n",
       "  <thead>\n",
       "    <tr style=\"text-align: right;\">\n",
       "      <th></th>\n",
       "      <th>TUMOR SIZE</th>\n",
       "      <th>Stage Classification</th>\n",
       "    </tr>\n",
       "  </thead>\n",
       "  <tbody>\n",
       "    <tr>\n",
       "      <th>0</th>\n",
       "      <td>0.25</td>\n",
       "      <td>4</td>\n",
       "    </tr>\n",
       "    <tr>\n",
       "      <th>1</th>\n",
       "      <td>0.89</td>\n",
       "      <td>2</td>\n",
       "    </tr>\n",
       "    <tr>\n",
       "      <th>2</th>\n",
       "      <td>0.95</td>\n",
       "      <td>1</td>\n",
       "    </tr>\n",
       "    <tr>\n",
       "      <th>3</th>\n",
       "      <td>0.35</td>\n",
       "      <td>2</td>\n",
       "    </tr>\n",
       "    <tr>\n",
       "      <th>4</th>\n",
       "      <td>0.52</td>\n",
       "      <td>4</td>\n",
       "    </tr>\n",
       "    <tr>\n",
       "      <th>...</th>\n",
       "      <td>...</td>\n",
       "      <td>...</td>\n",
       "    </tr>\n",
       "    <tr>\n",
       "      <th>10994</th>\n",
       "      <td>20.80</td>\n",
       "      <td>4</td>\n",
       "    </tr>\n",
       "    <tr>\n",
       "      <th>10995</th>\n",
       "      <td>20.79</td>\n",
       "      <td>4</td>\n",
       "    </tr>\n",
       "    <tr>\n",
       "      <th>10996</th>\n",
       "      <td>20.20</td>\n",
       "      <td>4</td>\n",
       "    </tr>\n",
       "    <tr>\n",
       "      <th>10997</th>\n",
       "      <td>20.28</td>\n",
       "      <td>4</td>\n",
       "    </tr>\n",
       "    <tr>\n",
       "      <th>10998</th>\n",
       "      <td>20.46</td>\n",
       "      <td>4</td>\n",
       "    </tr>\n",
       "  </tbody>\n",
       "</table>\n",
       "<p>10999 rows × 2 columns</p>\n",
       "</div>"
      ],
      "text/plain": [
       "       TUMOR SIZE  Stage Classification\n",
       "0            0.25                     4\n",
       "1            0.89                     2\n",
       "2            0.95                     1\n",
       "3            0.35                     2\n",
       "4            0.52                     4\n",
       "...           ...                   ...\n",
       "10994       20.80                     4\n",
       "10995       20.79                     4\n",
       "10996       20.20                     4\n",
       "10997       20.28                     4\n",
       "10998       20.46                     4\n",
       "\n",
       "[10999 rows x 2 columns]"
      ]
     },
     "execution_count": 91,
     "metadata": {},
     "output_type": "execute_result"
    }
   ],
   "source": [
    "final_data = pd.read_csv('Dataset-1a_new.csv')    #reading the csv file of 2000-2003 SEER database\n",
    "print('Dataset :',final_data.shape)               #printing the dataset \n",
    "final_data.info()\n",
    "final_data\n"
   ]
  },
  {
   "cell_type": "code",
   "execution_count": 92,
   "metadata": {},
   "outputs": [
    {
     "name": "stdout",
     "output_type": "stream",
     "text": [
      "Dataset : (10988, 2)\n",
      "<class 'pandas.core.frame.DataFrame'>\n",
      "RangeIndex: 10988 entries, 0 to 10987\n",
      "Data columns (total 2 columns):\n",
      " #   Column                Non-Null Count  Dtype  \n",
      "---  ------                --------------  -----  \n",
      " 0   tumor size            10988 non-null  float64\n",
      " 1   Stage Classification  10988 non-null  int64  \n",
      "dtypes: float64(1), int64(1)\n",
      "memory usage: 171.8 KB\n"
     ]
    },
    {
     "data": {
      "text/html": [
       "<div>\n",
       "<style scoped>\n",
       "    .dataframe tbody tr th:only-of-type {\n",
       "        vertical-align: middle;\n",
       "    }\n",
       "\n",
       "    .dataframe tbody tr th {\n",
       "        vertical-align: top;\n",
       "    }\n",
       "\n",
       "    .dataframe thead th {\n",
       "        text-align: right;\n",
       "    }\n",
       "</style>\n",
       "<table border=\"1\" class=\"dataframe\">\n",
       "  <thead>\n",
       "    <tr style=\"text-align: right;\">\n",
       "      <th></th>\n",
       "      <th>tumor size</th>\n",
       "      <th>Stage Classification</th>\n",
       "    </tr>\n",
       "  </thead>\n",
       "  <tbody>\n",
       "    <tr>\n",
       "      <th>0</th>\n",
       "      <td>0.50</td>\n",
       "      <td>1</td>\n",
       "    </tr>\n",
       "    <tr>\n",
       "      <th>1</th>\n",
       "      <td>0.91</td>\n",
       "      <td>4</td>\n",
       "    </tr>\n",
       "    <tr>\n",
       "      <th>2</th>\n",
       "      <td>0.40</td>\n",
       "      <td>2</td>\n",
       "    </tr>\n",
       "    <tr>\n",
       "      <th>3</th>\n",
       "      <td>0.87</td>\n",
       "      <td>1</td>\n",
       "    </tr>\n",
       "    <tr>\n",
       "      <th>4</th>\n",
       "      <td>0.25</td>\n",
       "      <td>3</td>\n",
       "    </tr>\n",
       "    <tr>\n",
       "      <th>...</th>\n",
       "      <td>...</td>\n",
       "      <td>...</td>\n",
       "    </tr>\n",
       "    <tr>\n",
       "      <th>10983</th>\n",
       "      <td>20.07</td>\n",
       "      <td>3</td>\n",
       "    </tr>\n",
       "    <tr>\n",
       "      <th>10984</th>\n",
       "      <td>20.20</td>\n",
       "      <td>3</td>\n",
       "    </tr>\n",
       "    <tr>\n",
       "      <th>10985</th>\n",
       "      <td>20.85</td>\n",
       "      <td>3</td>\n",
       "    </tr>\n",
       "    <tr>\n",
       "      <th>10986</th>\n",
       "      <td>20.66</td>\n",
       "      <td>3</td>\n",
       "    </tr>\n",
       "    <tr>\n",
       "      <th>10987</th>\n",
       "      <td>20.13</td>\n",
       "      <td>4</td>\n",
       "    </tr>\n",
       "  </tbody>\n",
       "</table>\n",
       "<p>10988 rows × 2 columns</p>\n",
       "</div>"
      ],
      "text/plain": [
       "       tumor size  Stage Classification\n",
       "0            0.50                     1\n",
       "1            0.91                     4\n",
       "2            0.40                     2\n",
       "3            0.87                     1\n",
       "4            0.25                     3\n",
       "...           ...                   ...\n",
       "10983       20.07                     3\n",
       "10984       20.20                     3\n",
       "10985       20.85                     3\n",
       "10986       20.66                     3\n",
       "10987       20.13                     4\n",
       "\n",
       "[10988 rows x 2 columns]"
      ]
     },
     "execution_count": 92,
     "metadata": {},
     "output_type": "execute_result"
    }
   ],
   "source": [
    "final_data2 = pd.read_csv('Dataset-1b_new.csv')       #reading the csv file of 1988-99 SEER database\n",
    "print('Dataset :',final_data2.shape)                  #printing the dataset\n",
    "final_data2.info()\n",
    "final_data2\n"
   ]
  },
  {
   "cell_type": "code",
   "execution_count": 93,
   "metadata": {},
   "outputs": [
    {
     "data": {
      "image/png": "[encoded data removed]",
      "text/plain": [
       "<Figure size 432x288 with 1 Axes>"
      ]
     },
     "metadata": {
      "needs_background": "light"
     },
     "output_type": "display_data"
    }
   ],
   "source": [
    "final_data['Stage Classification'].value_counts().plot(kind='bar') #plotting the bar graph of 2000-2003 SEER dataset on the basis of Stage Classification and Number of Patients\n",
    "plt.xlabel('Stage Classification') # Plotting coloumn \"Stage Classification\" on X-axis\n",
    "plt.ylabel('Number of Patients')   # Plotting coloumn \"Number of Patients\" on Y-axis\n",
    "plt.show()"
   ]
  },
  {
   "cell_type": "code",
   "execution_count": 94,
   "metadata": {
    "scrolled": true
   },
   "outputs": [
    {
     "data": {
      "image/png": "[encoded data removed]",
      "text/plain": [
       "<Figure size 432x288 with 1 Axes>"
      ]
     },
     "metadata": {
      "needs_background": "light"
     },
     "output_type": "display_data"
    }
   ],
   "source": [
    "final_data2['Stage Classification'].value_counts().plot(kind='bar') #plotting the bar graph of 1988-1999 SEER dataset on the basis of Stage Classification and Number of Patients\n",
    "plt.xlabel('Stage Classification') # Plotting coloumn \"Stage Classification\" on X-axis\n",
    "plt.ylabel('Number of Patients')  # Plotting coloumn \"Number of Patients\" on Y-axis\n",
    "plt.show()"
   ]
  },
  {
   "cell_type": "markdown",
   "metadata": {},
   "source": [
    "# Data For Training And Testing"
   ]
  },
  {
   "cell_type": "code",
   "execution_count": 95,
   "metadata": {},
   "outputs": [
    {
     "name": "stdout",
     "output_type": "stream",
     "text": [
      "X train shape:  (9899, 1)\n",
      "Y train shape:  (9899,)\n",
      "X test shape:  (1100, 1)\n",
      "Y test shape:  (1100,)\n"
     ]
    }
   ],
   "source": [
    "from sklearn.model_selection import train_test_split\n",
    "Y_train = final_data['Stage Classification']\n",
    "X_train = final_data.drop(columns=['Stage Classification'])\n",
    "\n",
    "#Y_test = final_data2['Stage Classification']\n",
    "#X_test = final_data2.drop(columns=['Stage Classification'])\n",
    "\n",
    "X_train, X_test, Y_train, Y_test = train_test_split(X_train, Y_train, test_size=0.1, random_state=10)\n",
    "########################3\n",
    "\n",
    "print('X train shape: ', X_train.shape)\n",
    "print('Y train shape: ', Y_train.shape)\n",
    "print('X test shape: ', X_test.shape)\n",
    "print('Y test shape: ', Y_test.shape)"
   ]
  },
  {
   "cell_type": "markdown",
   "metadata": {},
   "source": [
    "# Modelling with Logisitic Regression"
   ]
  },
  {
   "cell_type": "code",
   "execution_count": 96,
   "metadata": {},
   "outputs": [],
   "source": [
    "from sklearn.linear_model import LogisticRegression\n",
    "\n",
    "# We defining the model\n",
    "model = LogisticRegression(C=10)\n",
    "\n",
    "# We train the model\n",
    "model.fit(X_train, Y_train)\n",
    "\n",
    "# We predict target values\n",
    "Y_predict1 = model.predict(X_test)"
   ]
  },
  {
   "cell_type": "code",
   "execution_count": 97,
   "metadata": {},
   "outputs": [
    {
     "name": "stdout",
     "output_type": "stream",
     "text": [
      "0.42818181818181816\n"
     ]
    }
   ],
   "source": [
    "# Test score\n",
    "score_model1 = model.score(X_test, Y_test) # Calculating the Accuracy of Logisitic Regression Modelling\n",
    "print(score_model1) # Printing the Accuracy of Logisitic Regression Modelling"
   ]
  },
  {
   "cell_type": "markdown",
   "metadata": {},
   "source": [
    "# Modelling with State Vector Machine (SVM)"
   ]
  },
  {
   "cell_type": "code",
   "execution_count": 98,
   "metadata": {},
   "outputs": [],
   "source": [
    "from sklearn.ensemble import BaggingClassifier as BagClassifier\n",
    "from sklearn.multiclass import OneVsRestClassifier as OVRClassifier\n",
    "from sklearn.svm import *\n",
    "\n",
    "# We define the SVM model\n",
    "model = OVRClassifier(BagClassifier(SVC(C=10,kernel='rbf',random_state=10, probability=True), \n",
    "                                               n_jobs=-1))\n",
    "\n",
    "# We train model\n",
    "model.fit(X_train, Y_train)\n",
    "\n",
    "# We predict target values\n",
    "Y_predict2 = model.predict(X_test)"
   ]
  },
  {
   "cell_type": "code",
   "execution_count": 99,
   "metadata": {},
   "outputs": [
    {
     "name": "stdout",
     "output_type": "stream",
     "text": [
      "0.5290909090909091\n"
     ]
    }
   ],
   "source": [
    "score_model2 = model.score(X_test, Y_test) # Calculating the Accuracy of State Vector Machine(SVM) Modelling\n",
    "print(score_model2) # Printing the Accuracy of State Vector Machine(SVM) Modelling"
   ]
  },
  {
   "cell_type": "markdown",
   "metadata": {},
   "source": [
    "# Decision Tree"
   ]
  },
  {
   "cell_type": "code",
   "execution_count": 100,
   "metadata": {},
   "outputs": [],
   "source": [
    "from sklearn.tree import DecisionTreeClassifier\n",
    "\n",
    "# We define the model\n",
    "model = DecisionTreeClassifier(random_state=9)\n",
    "\n",
    "# We train model\n",
    "model.fit(X_train, Y_train)\n",
    "\n",
    "# We predict target values\n",
    "Y_predict4 = model.predict(X_test)"
   ]
  },
  {
   "cell_type": "code",
   "execution_count": 101,
   "metadata": {},
   "outputs": [
    {
     "name": "stdout",
     "output_type": "stream",
     "text": [
      "0.5590909090909091\n"
     ]
    }
   ],
   "source": [
    "score_model3 = model.score(X_test, Y_test) # Calculating the Accuracy of Decision Tree Modelling\n",
    "print(score_model3) # Printing the Accuracy of Decision Tree Modelling"
   ]
  },
  {
   "cell_type": "markdown",
   "metadata": {},
   "source": [
    "# Naive Bayes"
   ]
  },
  {
   "cell_type": "code",
   "execution_count": 102,
   "metadata": {},
   "outputs": [],
   "source": [
    "from sklearn.naive_bayes import GaussianNB\n",
    "\n",
    "# We define the model\n",
    "model = GaussianNB()\n",
    "\n",
    "# We train model\n",
    "model.fit(X_train, Y_train)\n",
    "\n",
    "# We predict target values\n",
    "Y_predict3 = model.predict(X_test)"
   ]
  },
  {
   "cell_type": "code",
   "execution_count": 103,
   "metadata": {},
   "outputs": [
    {
     "name": "stdout",
     "output_type": "stream",
     "text": [
      "0.5\n"
     ]
    }
   ],
   "source": [
    "score_model4 = model.score(X_test, Y_test)   # Calculating the Accuracy of Naive Bayes Modelling\n",
    "print(score_model4) # Printing the Accuracy of Naive Bayes Modelling"
   ]
  },
  {
   "cell_type": "markdown",
   "metadata": {},
   "source": [
    "# Random Forest\n"
   ]
  },
  {
   "cell_type": "code",
   "execution_count": 104,
   "metadata": {},
   "outputs": [],
   "source": [
    "from sklearn.ensemble import RandomForestClassifier\n",
    "\n",
    "# We define the model\n",
    "model = RandomForestClassifier(n_estimators=100,random_state=9,n_jobs=-1)\n",
    "\n",
    "# We train model\n",
    "model.fit(X_train, Y_train)\n",
    "\n",
    "# We predict target values\n",
    "Y_predict5 = model.predict(X_test)"
   ]
  },
  {
   "cell_type": "code",
   "execution_count": 105,
   "metadata": {},
   "outputs": [
    {
     "name": "stdout",
     "output_type": "stream",
     "text": [
      "0.5481818181818182\n"
     ]
    }
   ],
   "source": [
    "score_model5 = model.score(X_test, Y_test) # Calculating the Accuracy of Random Forest Modelling\n",
    "print(score_model5)   # Printing the Accuracy of Random Forest Modelling"
   ]
  },
  {
   "cell_type": "code",
   "execution_count": 106,
   "metadata": {},
   "outputs": [],
   "source": []
  },
  {
   "cell_type": "code",
   "execution_count": 106,
   "metadata": {},
   "outputs": [
    {
     "data": {
      "text/plain": [
       "<BarContainer object of 5 artists>"
      ]
     },
     "execution_count": 106,
     "metadata": {},
     "output_type": "execute_result"
    },
    {
     "data": {
      "image/png": "[encoded data removed]",
      "text/plain": [
       "<Figure size 432x288 with 1 Axes>"
      ]
     },
     "metadata": {
      "needs_background": "light"
     },
     "output_type": "display_data"
    }
   ],
   "source": [
    "dict = {}\n",
    "dict['Logistic Regression'] = score_model1\n",
    "dict['SVM'] = score_model2\n",
    "dict['Decision_Tree'] = score_model3\n",
    "dict['NB'] = score_model4\n",
    "dict['RF'] = score_model5\n",
    "\n",
    "y = [dict['Logistic Regression'], dict['SVM'], dict['Decision_Tree'], dict['NB'], dict['RF']] #Taking Accuracy of each model on the Y-axis\n",
    "x = ['Logistic Regression', 'SVM', 'Decision Tree', 'NB','RF'] #Taking name of each model on the X-axis\n",
    "\n",
    "plt.title(\"Accuracy comparison\") \n",
    "plt.ylabel(\"Accuracy\")  # Plotting the accuracy score of each model on Y-axis\n",
    "plt.bar(x,y)            # Plotting the bar graph for accuracy comparison of each model\n",
    "#plt.title(\"Accuracy comparison\")\n",
    "#plt.ylabel(\"Accuracy\")\n",
    "#plt.bar(x,accuracy)"
   ]
  },
  {
   "cell_type": "code",
   "execution_count": null,
   "metadata": {},
   "outputs": [],
   "source": []
  }
 ],
 "metadata": {
  "kernelspec": {
   "display_name": "Python 3",
   "language": "python",
   "name": "python3"
  },
  "language_info": {
   "codemirror_mode": {
    "name": "ipython",
    "version": 3
   },
   "file_extension": ".py",
   "mimetype": "text/x-python",
   "name": "python",
   "nbconvert_exporter": "python",
   "pygments_lexer": "ipython3",
   "version": "3.8.5"
  }
 },
 "nbformat": 4,
 "nbformat_minor": 4
}
