{
 "cells": [
  {
   "cell_type": "markdown",
   "metadata": {},
   "source": [
    "# Relationship Between Lung Cancer And Genetic Risk"
   ]
  },
  {
   "cell_type": "code",
   "execution_count": 1,
   "metadata": {},
   "outputs": [],
   "source": [
    "import numpy as np\n",
    "import pandas as pd"
   ]
  },
  {
   "cell_type": "markdown",
   "metadata": {},
   "source": [
    "## (1) Extracting And Reading Data From the Dataset"
   ]
  },
  {
   "cell_type": "code",
   "execution_count": 2,
   "metadata": {},
   "outputs": [
    {
     "name": "stdout",
     "output_type": "stream",
     "text": [
      "Dataset : (1000, 5)\n",
      "<class 'pandas.core.frame.DataFrame'>\n",
      "RangeIndex: 1000 entries, 0 to 999\n",
      "Data columns (total 5 columns):\n",
      " #   Column           Non-Null Count  Dtype  \n",
      "---  ------           --------------  -----  \n",
      " 0   FIPS_code        1000 non-null   int64  \n",
      " 1   Lung Cancer      1000 non-null   float64\n",
      " 2   District         1000 non-null   object \n",
      " 3   GeneticRisk      1000 non-null   int64  \n",
      " 4   Status_Variable  1000 non-null   int64  \n",
      "dtypes: float64(1), int64(3), object(1)\n",
      "memory usage: 35.2+ KB\n"
     ]
    },
    {
     "data": {
      "text/html": [
       "<div>\n",
       "<style scoped>\n",
       "    .dataframe tbody tr th:only-of-type {\n",
       "        vertical-align: middle;\n",
       "    }\n",
       "\n",
       "    .dataframe tbody tr th {\n",
       "        vertical-align: top;\n",
       "    }\n",
       "\n",
       "    .dataframe thead th {\n",
       "        text-align: right;\n",
       "    }\n",
       "</style>\n",
       "<table border=\"1\" class=\"dataframe\">\n",
       "  <thead>\n",
       "    <tr style=\"text-align: right;\">\n",
       "      <th></th>\n",
       "      <th>FIPS_code</th>\n",
       "      <th>Lung Cancer</th>\n",
       "      <th>District</th>\n",
       "      <th>GeneticRisk</th>\n",
       "      <th>Status_Variable</th>\n",
       "    </tr>\n",
       "  </thead>\n",
       "  <tbody>\n",
       "    <tr>\n",
       "      <th>0</th>\n",
       "      <td>1001</td>\n",
       "      <td>73.9</td>\n",
       "      <td>Autauga</td>\n",
       "      <td>3</td>\n",
       "      <td>0</td>\n",
       "    </tr>\n",
       "    <tr>\n",
       "      <th>1</th>\n",
       "      <td>1003</td>\n",
       "      <td>68.4</td>\n",
       "      <td>Baldwin</td>\n",
       "      <td>4</td>\n",
       "      <td>0</td>\n",
       "    </tr>\n",
       "    <tr>\n",
       "      <th>2</th>\n",
       "      <td>1005</td>\n",
       "      <td>76.1</td>\n",
       "      <td>Barbour</td>\n",
       "      <td>5</td>\n",
       "      <td>0</td>\n",
       "    </tr>\n",
       "    <tr>\n",
       "      <th>3</th>\n",
       "      <td>1007</td>\n",
       "      <td>86.4</td>\n",
       "      <td>Bibb Cou</td>\n",
       "      <td>6</td>\n",
       "      <td>1</td>\n",
       "    </tr>\n",
       "    <tr>\n",
       "      <th>4</th>\n",
       "      <td>1009</td>\n",
       "      <td>73.1</td>\n",
       "      <td>Blount C</td>\n",
       "      <td>7</td>\n",
       "      <td>1</td>\n",
       "    </tr>\n",
       "    <tr>\n",
       "      <th>...</th>\n",
       "      <td>...</td>\n",
       "      <td>...</td>\n",
       "      <td>...</td>\n",
       "      <td>...</td>\n",
       "      <td>...</td>\n",
       "    </tr>\n",
       "    <tr>\n",
       "      <th>995</th>\n",
       "      <td>22095</td>\n",
       "      <td>60.1</td>\n",
       "      <td>St. John</td>\n",
       "      <td>7</td>\n",
       "      <td>1</td>\n",
       "    </tr>\n",
       "    <tr>\n",
       "      <th>996</th>\n",
       "      <td>22097</td>\n",
       "      <td>82.6</td>\n",
       "      <td>St. Land</td>\n",
       "      <td>7</td>\n",
       "      <td>1</td>\n",
       "    </tr>\n",
       "    <tr>\n",
       "      <th>997</th>\n",
       "      <td>22099</td>\n",
       "      <td>77.6</td>\n",
       "      <td>St. Mart</td>\n",
       "      <td>5</td>\n",
       "      <td>0</td>\n",
       "    </tr>\n",
       "    <tr>\n",
       "      <th>998</th>\n",
       "      <td>22103</td>\n",
       "      <td>66.3</td>\n",
       "      <td>St. Tamm</td>\n",
       "      <td>7</td>\n",
       "      <td>1</td>\n",
       "    </tr>\n",
       "    <tr>\n",
       "      <th>999</th>\n",
       "      <td>22105</td>\n",
       "      <td>75.5</td>\n",
       "      <td>Tangipah</td>\n",
       "      <td>5</td>\n",
       "      <td>0</td>\n",
       "    </tr>\n",
       "  </tbody>\n",
       "</table>\n",
       "<p>1000 rows × 5 columns</p>\n",
       "</div>"
      ],
      "text/plain": [
       "     FIPS_code  Lung Cancer  District  GeneticRisk  Status_Variable\n",
       "0         1001         73.9   Autauga            3                0\n",
       "1         1003         68.4   Baldwin            4                0\n",
       "2         1005         76.1   Barbour            5                0\n",
       "3         1007         86.4  Bibb Cou            6                1\n",
       "4         1009         73.1  Blount C            7                1\n",
       "..         ...          ...       ...          ...              ...\n",
       "995      22095         60.1  St. John            7                1\n",
       "996      22097         82.6  St. Land            7                1\n",
       "997      22099         77.6  St. Mart            5                0\n",
       "998      22103         66.3  St. Tamm            7                1\n",
       "999      22105         75.5  Tangipah            5                0\n",
       "\n",
       "[1000 rows x 5 columns]"
      ]
     },
     "execution_count": 2,
     "metadata": {},
     "output_type": "execute_result"
    }
   ],
   "source": [
    "data = pd.read_csv('Innovation_Dataset_1.csv') #reading the csv file of dataset for innovation.\n",
    "print('Dataset :',data.shape) # Printing the coloumns of dataset used for innovation \n",
    "data.info()  \n",
    "data      "
   ]
  },
  {
   "cell_type": "markdown",
   "metadata": {},
   "source": [
    "## (2) Differentiating And Selecting the data depending upon the Null Hypothesis "
   ]
  },
  {
   "cell_type": "code",
   "execution_count": 3,
   "metadata": {},
   "outputs": [
    {
     "data": {
      "text/html": [
       "<div>\n",
       "<style scoped>\n",
       "    .dataframe tbody tr th:only-of-type {\n",
       "        vertical-align: middle;\n",
       "    }\n",
       "\n",
       "    .dataframe tbody tr th {\n",
       "        vertical-align: top;\n",
       "    }\n",
       "\n",
       "    .dataframe thead th {\n",
       "        text-align: right;\n",
       "    }\n",
       "</style>\n",
       "<table border=\"1\" class=\"dataframe\">\n",
       "  <thead>\n",
       "    <tr style=\"text-align: right;\">\n",
       "      <th></th>\n",
       "      <th>FIPS_code</th>\n",
       "      <th>Lung Cancer</th>\n",
       "      <th>District</th>\n",
       "      <th>GeneticRisk</th>\n",
       "      <th>Status_Variable</th>\n",
       "    </tr>\n",
       "  </thead>\n",
       "  <tbody>\n",
       "    <tr>\n",
       "      <th>3</th>\n",
       "      <td>1007</td>\n",
       "      <td>86.4</td>\n",
       "      <td>Bibb Cou</td>\n",
       "      <td>6</td>\n",
       "      <td>1</td>\n",
       "    </tr>\n",
       "    <tr>\n",
       "      <th>4</th>\n",
       "      <td>1009</td>\n",
       "      <td>73.1</td>\n",
       "      <td>Blount C</td>\n",
       "      <td>7</td>\n",
       "      <td>1</td>\n",
       "    </tr>\n",
       "    <tr>\n",
       "      <th>8</th>\n",
       "      <td>1017</td>\n",
       "      <td>72.5</td>\n",
       "      <td>Chambers</td>\n",
       "      <td>6</td>\n",
       "      <td>1</td>\n",
       "    </tr>\n",
       "    <tr>\n",
       "      <th>10</th>\n",
       "      <td>1021</td>\n",
       "      <td>70.5</td>\n",
       "      <td>Chilton</td>\n",
       "      <td>7</td>\n",
       "      <td>1</td>\n",
       "    </tr>\n",
       "    <tr>\n",
       "      <th>11</th>\n",
       "      <td>1023</td>\n",
       "      <td>50.2</td>\n",
       "      <td>Choctaw</td>\n",
       "      <td>7</td>\n",
       "      <td>1</td>\n",
       "    </tr>\n",
       "    <tr>\n",
       "      <th>...</th>\n",
       "      <td>...</td>\n",
       "      <td>...</td>\n",
       "      <td>...</td>\n",
       "      <td>...</td>\n",
       "      <td>...</td>\n",
       "    </tr>\n",
       "    <tr>\n",
       "      <th>993</th>\n",
       "      <td>22091</td>\n",
       "      <td>55.4</td>\n",
       "      <td>St. Hele</td>\n",
       "      <td>6</td>\n",
       "      <td>1</td>\n",
       "    </tr>\n",
       "    <tr>\n",
       "      <th>994</th>\n",
       "      <td>22093</td>\n",
       "      <td>63.1</td>\n",
       "      <td>St. Jame</td>\n",
       "      <td>7</td>\n",
       "      <td>1</td>\n",
       "    </tr>\n",
       "    <tr>\n",
       "      <th>995</th>\n",
       "      <td>22095</td>\n",
       "      <td>60.1</td>\n",
       "      <td>St. John</td>\n",
       "      <td>7</td>\n",
       "      <td>1</td>\n",
       "    </tr>\n",
       "    <tr>\n",
       "      <th>996</th>\n",
       "      <td>22097</td>\n",
       "      <td>82.6</td>\n",
       "      <td>St. Land</td>\n",
       "      <td>7</td>\n",
       "      <td>1</td>\n",
       "    </tr>\n",
       "    <tr>\n",
       "      <th>998</th>\n",
       "      <td>22103</td>\n",
       "      <td>66.3</td>\n",
       "      <td>St. Tamm</td>\n",
       "      <td>7</td>\n",
       "      <td>1</td>\n",
       "    </tr>\n",
       "  </tbody>\n",
       "</table>\n",
       "<p>435 rows × 5 columns</p>\n",
       "</div>"
      ],
      "text/plain": [
       "     FIPS_code  Lung Cancer  District  GeneticRisk  Status_Variable\n",
       "3         1007         86.4  Bibb Cou            6                1\n",
       "4         1009         73.1  Blount C            7                1\n",
       "8         1017         72.5  Chambers            6                1\n",
       "10        1021         70.5   Chilton            7                1\n",
       "11        1023         50.2   Choctaw            7                1\n",
       "..         ...          ...       ...          ...              ...\n",
       "993      22091         55.4  St. Hele            6                1\n",
       "994      22093         63.1  St. Jame            7                1\n",
       "995      22095         60.1  St. John            7                1\n",
       "996      22097         82.6  St. Land            7                1\n",
       "998      22103         66.3  St. Tamm            7                1\n",
       "\n",
       "[435 rows x 5 columns]"
      ]
     },
     "execution_count": 3,
     "metadata": {},
     "output_type": "execute_result"
    }
   ],
   "source": [
    "gen_hi = data[data['Status_Variable'] == 1] # Status variable is 1 if \"GeneticRisk\" level are high according to our null hypothesis\n",
    "gen_lo = data[data['Status_Variable'] == 0] # Status variable is 0 if \"GeneticRisk\" level are low according to our null hypothesis\n",
    "gen_hi  # Printing the data whose status variable is \"1\" where \"GeneticRisk\" level are high "
   ]
  },
  {
   "cell_type": "markdown",
   "metadata": {},
   "source": [
    "## (3) Plotting the Probability Plot of incident rates of \"Lung Cancer\" vs \"Status Variables\"     depending upon high risk and low risk"
   ]
  },
  {
   "cell_type": "code",
   "execution_count": 4,
   "metadata": {},
   "outputs": [
    {
     "data": {
      "image/png": "[encoded data removed]",
      "text/plain": [
       "<Figure size 432x288 with 1 Axes>"
      ]
     },
     "metadata": {
      "needs_background": "light"
     },
     "output_type": "display_data"
    }
   ],
   "source": [
    "import pylab \n",
    "import scipy.stats as stats\n",
    "\n",
    "stats.probplot(gen_hi['Lung Cancer'], dist=\"norm\", plot=pylab) # Plotting the probability plot of incident rates of lung cancer vs genetic high risk variable \n",
    "pylab.show() #there appears to be some outliers at the end but for the most part it follows a straight line"
   ]
  },
  {
   "cell_type": "code",
   "execution_count": 5,
   "metadata": {},
   "outputs": [
    {
     "data": {
      "image/png": "[encoded data removed]",
      "text/plain": [
       "<Figure size 432x288 with 1 Axes>"
      ]
     },
     "metadata": {
      "needs_background": "light"
     },
     "output_type": "display_data"
    }
   ],
   "source": [
    "stats.probplot(gen_lo['Lung Cancer'], dist=\"norm\", plot=pylab) # Plotting the probability plot of incident rates of lung cancer vs genetic low risk\n",
    "pylab.show()"
   ]
  },
  {
   "cell_type": "markdown",
   "metadata": {},
   "source": [
    "## (4) Calculating the mean values and F-statistic "
   ]
  },
  {
   "cell_type": "code",
   "execution_count": 6,
   "metadata": {},
   "outputs": [
    {
     "name": "stdout",
     "output_type": "stream",
     "text": [
      "71.88574712643677 72.58637168141593\n"
     ]
    }
   ],
   "source": [
    "mean_hi = gen_hi['Lung Cancer'].mean() # Calculating the mean of incident rates of lung cancer where there is high genetic risk\n",
    "mean_lo = gen_lo['Lung Cancer'].mean() # Calculating the mean of incident rates of lung cancer where there is low genetic risk\n",
    "print(mean_hi, mean_lo) # Printing the mean of incident rates of lung cancer where there is high genetic risk and low genetic risk"
   ]
  },
  {
   "cell_type": "code",
   "execution_count": 7,
   "metadata": {},
   "outputs": [
    {
     "name": "stdout",
     "output_type": "stream",
     "text": [
      "407.55716965940996 379.0483777694094 1.0752114863484354\n"
     ]
    }
   ],
   "source": [
    "difference_hi= gen_hi['Lung Cancer'] - mean_hi #note that subtracting a scalar from a vector works because of broadcasting\n",
    "difference_lo = gen_lo['Lung Cancer'] - mean_lo \n",
    "# next two lines is calculating var hat\n",
    "var_hi = np.dot(difference_hi,difference_hi)/(gen_hi.shape[0]-1) # Calculating the variance of incident rates of lung cancer where there is high genetic risk\n",
    "var_lo = np.dot(difference_lo,difference_lo)/(gen_lo.shape[0]-1) # Calculating the variance of incident rates of lung cancer where there is low genetic risk\n",
    "F_stat = var_hi/var_lo # since under null hypothesis variance of two groups are equal so the variances would cancel out\n",
    "print(var_hi, var_lo , F_stat) "
   ]
  },
  {
   "cell_type": "markdown",
   "metadata": {},
   "source": [
    "## (5) Calculating the p-value and t-statistic for distribution"
   ]
  },
  {
   "cell_type": "code",
   "execution_count": 8,
   "metadata": {},
   "outputs": [
    {
     "data": {
      "text/plain": [
       "0.7903833203340546"
      ]
     },
     "execution_count": 8,
     "metadata": {},
     "output_type": "execute_result"
    }
   ],
   "source": [
    "import scipy.stats\n",
    "\n",
    "#calculating the  P value\n",
    "# to find degrees of freedom of F distribution \n",
    "dfhi = difference_hi.shape[0]-1 \n",
    "dflo = difference_lo.shape[0]-1\n",
    "\n",
    "p_value = scipy.stats.f.cdf(F_stat, dfhi, dflo) # calculating p-value from other calculated values like F_statistic , dfhi and dflo\n",
    "p_value # printing the calculated p-value "
   ]
  },
  {
   "cell_type": "code",
   "execution_count": 9,
   "metadata": {},
   "outputs": [
    {
     "data": {
      "text/plain": [
       "Ttest_indResult(statistic=-0.5551601481259969, pvalue=0.5789095321885536)"
      ]
     },
     "execution_count": 9,
     "metadata": {},
     "output_type": "execute_result"
    }
   ],
   "source": [
    "from scipy.stats import ttest_ind\n",
    "high = gen_hi['Lung Cancer']\n",
    "low = gen_lo['Lung Cancer']\n",
    "\n",
    "stats.ttest_ind(high, low)   # printing the final values of t-statistic calculated and p-value calculated."
   ]
  },
  {
   "cell_type": "code",
   "execution_count": null,
   "metadata": {},
   "outputs": [],
   "source": []
  }
 ],
 "metadata": {
  "kernelspec": {
   "display_name": "Python 3",
   "language": "python",
   "name": "python3"
  },
  "language_info": {
   "codemirror_mode": {
    "name": "ipython",
    "version": 3
   },
   "file_extension": ".py",
   "mimetype": "text/x-python",
   "name": "python",
   "nbconvert_exporter": "python",
   "pygments_lexer": "ipython3",
   "version": "3.8.5"
  }
 },
 "nbformat": 4,
 "nbformat_minor": 4
}
